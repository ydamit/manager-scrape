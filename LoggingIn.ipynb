{
 "cells": [
  {
   "cell_type": "code",
   "execution_count": 345,
   "metadata": {
    "collapsed": true
   },
   "outputs": [],
   "source": [
    "from selenium import webdriver\n",
    "from selenium.webdriver.common.keys import Keys\n",
    "from selenium.webdriver.support import ui\n",
    "from bs4 import BeautifulSoup\n",
    "import pandas as pd\n",
    "import re\n",
    "from datetime import date"
   ]
  },
  {
   "cell_type": "code",
   "execution_count": 321,
   "metadata": {},
   "outputs": [],
   "source": [
    "url = 'https://manager.paypal.com/'\n",
    "browser = webdriver.Firefox()\n",
    "browser.get(url)"
   ]
  },
  {
   "cell_type": "code",
   "execution_count": 322,
   "metadata": {},
   "outputs": [],
   "source": [
    "with open('credentials.txt') as file:\n",
    "    partnerName = file.readline()\n",
    "    vendorName = file.readline()\n",
    "    userID = file.readline()\n",
    "    password = file.readline()"
   ]
  },
  {
   "cell_type": "code",
   "execution_count": 323,
   "metadata": {},
   "outputs": [],
   "source": [
    "elem1 = browser.find_element_by_name('partnerName')  # Find the search box\n",
    "elem1.send_keys(partnerName)\n",
    "elem2 = browser.find_element_by_name('vendorName')  # Find the search box\n",
    "elem2.send_keys(vendorName)\n",
    "elem3 = browser.find_element_by_name('userID')  # Find the search box\n",
    "elem3.send_keys(userID)\n",
    "elem4 = browser.find_element_by_name('password')  # Find the search box\n",
    "elem4.send_keys(password + Keys.RETURN)"
   ]
  },
  {
   "cell_type": "code",
   "execution_count": 324,
   "metadata": {},
   "outputs": [
    {
     "data": {
      "text/plain": [
       "True"
      ]
     },
     "execution_count": 324,
     "metadata": {},
     "output_type": "execute_result"
    }
   ],
   "source": [
    "def page_is_loaded(driver):\n",
    "    return driver.find_element_by_css_selector(\".horizontalScroll\") != None\n",
    "wait = ui.WebDriverWait(browser, 10)\n",
    "wait.until(page_is_loaded)\n",
    "#browser.page_source"
   ]
  },
  {
   "cell_type": "code",
   "execution_count": 325,
   "metadata": {},
   "outputs": [],
   "source": [
    "elem5 = browser.find_element_by_css_selector(\".menu > dl:nth-child(1) > dd:nth-child(7) > a:nth-child(1) > span:nth-child(2)\")\n",
    "elem5.click()"
   ]
  },
  {
   "cell_type": "code",
   "execution_count": 326,
   "metadata": {
    "collapsed": true
   },
   "outputs": [],
   "source": [
    "elem6 = browser.find_element_by_link_text('Manage Profiles')\n",
    "elem6.click()"
   ]
  },
  {
   "cell_type": "code",
   "execution_count": 327,
   "metadata": {
    "collapsed": true
   },
   "outputs": [],
   "source": [
    "elem7 = browser.find_element_by_css_selector(\"#manageProfile > form:nth-child(1) > table:nth-child(2) > tfoot:nth-child(5) > tr:nth-child(1) > td:nth-child(2) > input:nth-child(2)\")\n",
    "elem7.click()"
   ]
  },
  {
   "cell_type": "code",
   "execution_count": 342,
   "metadata": {},
   "outputs": [
    {
     "name": "stdout",
     "output_type": "stream",
     "text": [
      "1\n"
     ]
    }
   ],
   "source": [
    "data = []\n",
    "headers = ['ProfileId', 'Profile Name', 'Last Name', 'First Name', 'Status', 'Account Number', \\\n",
    "           'Expiration Date', 'Amount', 'Frequency', 'Term', 'Established Date', 'Start Date', 'Next Payment Date', \\\n",
    "           'Deactivation Date', 'Profile Modified Date']\n",
    "i = 0\n",
    "while True:\n",
    "    source = browser.page_source\n",
    "    soup = BeautifulSoup(source, \"lxml\")\n",
    "    table = soup.find(\"table\")\n",
    "    if len(table.findAll(\"tr\")) < 2:\n",
    "        break\n",
    "    for row in table.findAll(\"tr\"):\n",
    "        cells = row.findAll(\"td\")\n",
    "        d = {}\n",
    "        for header, cell  in zip(headers, cells):\n",
    "            d[header] = cell.text\n",
    "        data.append(d)\n",
    "    browser.get('https://manager.paypal.com/searchProfiles.do?subaction=searchRbProfile&start=%d' % (i*50 + 51))\n",
    "    wait = ui.WebDriverWait(browser, 10)\n",
    "    wait.until(page_is_loaded)\n",
    "    i = i + 1\n",
    "    if i > 500:\n",
    "        print('Didn\\'t work')\n",
    "        break"
   ]
  },
  {
   "cell_type": "code",
   "execution_count": 357,
   "metadata": {},
   "outputs": [],
   "source": [
    "df = pd.DataFrame().from_dict(data)[headers]\n",
    "df = df[df['ProfileId'].notnull()]\n",
    "df.to_csv('%s_Payment.csv' % date.today().strftime('%y-%m-%d'))"
   ]
  },
  {
   "cell_type": "code",
   "execution_count": null,
   "metadata": {
    "collapsed": true
   },
   "outputs": [],
   "source": []
  }
 ],
 "metadata": {
  "kernelspec": {
   "display_name": "Python 3",
   "language": "python",
   "name": "python3"
  },
  "language_info": {
   "codemirror_mode": {
    "name": "ipython",
    "version": 3
   },
   "file_extension": ".py",
   "mimetype": "text/x-python",
   "name": "python",
   "nbconvert_exporter": "python",
   "pygments_lexer": "ipython3",
   "version": "3.6.1"
  }
 },
 "nbformat": 4,
 "nbformat_minor": 2
}
